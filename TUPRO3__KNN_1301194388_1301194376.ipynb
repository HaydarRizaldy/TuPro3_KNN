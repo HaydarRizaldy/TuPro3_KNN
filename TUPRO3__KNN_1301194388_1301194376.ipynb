{
  "nbformat": 4,
  "nbformat_minor": 0,
  "metadata": {
    "colab": {
      "name": "TUPRO3 _KNN_1301194388_1301194376.ipynb",
      "provenance": [],
      "collapsed_sections": [
        "SqwBAHI_yafm"
      ]
    },
    "kernelspec": {
      "display_name": "Python 3",
      "name": "python3"
    },
    "language_info": {
      "name": "python"
    }
  },
  "cells": [
    {
      "cell_type": "markdown",
      "metadata": {
        "id": "e_e5ojwzb9lk"
      },
      "source": [
        "# Libraries"
      ]
    },
    {
      "cell_type": "code",
      "metadata": {
        "id": "q6AZyNTePkM6"
      },
      "source": [
        "import pandas as pd\n",
        "import numpy as np\n",
        "from matplotlib import pyplot as plt"
      ],
      "execution_count": null,
      "outputs": []
    },
    {
      "cell_type": "markdown",
      "metadata": {
        "id": "u8B6m6dkcApc"
      },
      "source": [
        "------------------------------------------\n",
        "# Dataset"
      ]
    },
    {
      "cell_type": "markdown",
      "metadata": {
        "id": "yy4DnFFHzJg_"
      },
      "source": [
        "*Unduh file dari Google Drive ke Google Colab*"
      ]
    },
    {
      "cell_type": "code",
      "metadata": {
        "id": "xNY1AntvbiB-",
        "colab": {
          "base_uri": "https://localhost:8080/"
        },
        "outputId": "84831caa-8ec7-414a-e2fb-ec30cfcfb841"
      },
      "source": [
        "!gdown --id 10ciJlTSJcwaYgTwxa_KTJDs8nIkTzDU6"
      ],
      "execution_count": null,
      "outputs": [
        {
          "output_type": "stream",
          "name": "stdout",
          "text": [
            "Downloading...\n",
            "From: https://drive.google.com/uc?id=10ciJlTSJcwaYgTwxa_KTJDs8nIkTzDU6\n",
            "To: /content/mobil.xls\n",
            "\r  0% 0.00/29.2k [00:00<?, ?B/s]\r100% 29.2k/29.2k [00:00<00:00, 50.1MB/s]\n"
          ]
        }
      ]
    },
    {
      "cell_type": "markdown",
      "metadata": {
        "id": "Bj4teYJEzVTM"
      },
      "source": [
        "*Membaca data berformat excel*"
      ]
    },
    {
      "cell_type": "code",
      "metadata": {
        "id": "jHVz1CzWF7x4"
      },
      "source": [
        "def data_excel(data) :\n",
        "  xls = pd.read_excel(data)\n",
        "  return xls"
      ],
      "execution_count": null,
      "outputs": []
    },
    {
      "cell_type": "markdown",
      "metadata": {
        "id": "XNwYtlm_zdw9"
      },
      "source": [
        "*Menampilkan dataset*"
      ]
    },
    {
      "cell_type": "code",
      "metadata": {
        "id": "09BEmSp3Rppz",
        "colab": {
          "base_uri": "https://localhost:8080/",
          "height": 573
        },
        "outputId": "9bffbfd5-63b5-4b82-cfec-de1e3524990c"
      },
      "source": [
        "dataset = data_excel('mobil.xls')\n",
        "dataset"
      ],
      "execution_count": null,
      "outputs": [
        {
          "output_type": "execute_result",
          "data": {
            "text/html": [
              "<div>\n",
              "<style scoped>\n",
              "    .dataframe tbody tr th:only-of-type {\n",
              "        vertical-align: middle;\n",
              "    }\n",
              "\n",
              "    .dataframe tbody tr th {\n",
              "        vertical-align: top;\n",
              "    }\n",
              "\n",
              "    .dataframe thead th {\n",
              "        text-align: right;\n",
              "    }\n",
              "</style>\n",
              "<table border=\"1\" class=\"dataframe\">\n",
              "  <thead>\n",
              "    <tr style=\"text-align: right;\">\n",
              "      <th></th>\n",
              "      <th>Nama Mobil</th>\n",
              "      <th>Ukuran</th>\n",
              "      <th>Kenyamanan</th>\n",
              "      <th>Irit</th>\n",
              "      <th>Kecepatan</th>\n",
              "      <th>Harga (Ratus Juta)</th>\n",
              "    </tr>\n",
              "  </thead>\n",
              "  <tbody>\n",
              "    <tr>\n",
              "      <th>0</th>\n",
              "      <td>Toyota Agya</td>\n",
              "      <td>4</td>\n",
              "      <td>4</td>\n",
              "      <td>9</td>\n",
              "      <td>6</td>\n",
              "      <td>1.00</td>\n",
              "    </tr>\n",
              "    <tr>\n",
              "      <th>1</th>\n",
              "      <td>Daihatsu Alya</td>\n",
              "      <td>4</td>\n",
              "      <td>3</td>\n",
              "      <td>9</td>\n",
              "      <td>6</td>\n",
              "      <td>1.10</td>\n",
              "    </tr>\n",
              "    <tr>\n",
              "      <th>2</th>\n",
              "      <td>Toyota Avanza</td>\n",
              "      <td>6</td>\n",
              "      <td>5</td>\n",
              "      <td>6</td>\n",
              "      <td>6</td>\n",
              "      <td>2.00</td>\n",
              "    </tr>\n",
              "    <tr>\n",
              "      <th>3</th>\n",
              "      <td>Daihatsu Xenia</td>\n",
              "      <td>6</td>\n",
              "      <td>4</td>\n",
              "      <td>6</td>\n",
              "      <td>6</td>\n",
              "      <td>1.75</td>\n",
              "    </tr>\n",
              "    <tr>\n",
              "      <th>4</th>\n",
              "      <td>Xpander</td>\n",
              "      <td>7</td>\n",
              "      <td>7</td>\n",
              "      <td>6</td>\n",
              "      <td>7</td>\n",
              "      <td>2.25</td>\n",
              "    </tr>\n",
              "    <tr>\n",
              "      <th>5</th>\n",
              "      <td>Livina</td>\n",
              "      <td>7</td>\n",
              "      <td>7</td>\n",
              "      <td>6</td>\n",
              "      <td>7</td>\n",
              "      <td>2.10</td>\n",
              "    </tr>\n",
              "    <tr>\n",
              "      <th>6</th>\n",
              "      <td>Karimun</td>\n",
              "      <td>3</td>\n",
              "      <td>4</td>\n",
              "      <td>10</td>\n",
              "      <td>5</td>\n",
              "      <td>1.20</td>\n",
              "    </tr>\n",
              "    <tr>\n",
              "      <th>7</th>\n",
              "      <td>Toyota Innova</td>\n",
              "      <td>8</td>\n",
              "      <td>8</td>\n",
              "      <td>5</td>\n",
              "      <td>7</td>\n",
              "      <td>4.00</td>\n",
              "    </tr>\n",
              "    <tr>\n",
              "      <th>8</th>\n",
              "      <td>Alphard</td>\n",
              "      <td>9</td>\n",
              "      <td>10</td>\n",
              "      <td>4</td>\n",
              "      <td>8</td>\n",
              "      <td>10.00</td>\n",
              "    </tr>\n",
              "    <tr>\n",
              "      <th>9</th>\n",
              "      <td>Toyota Vios</td>\n",
              "      <td>5</td>\n",
              "      <td>7</td>\n",
              "      <td>9</td>\n",
              "      <td>8</td>\n",
              "      <td>2.50</td>\n",
              "    </tr>\n",
              "    <tr>\n",
              "      <th>10</th>\n",
              "      <td>Honda City</td>\n",
              "      <td>5</td>\n",
              "      <td>8</td>\n",
              "      <td>7</td>\n",
              "      <td>8</td>\n",
              "      <td>2.70</td>\n",
              "    </tr>\n",
              "    <tr>\n",
              "      <th>11</th>\n",
              "      <td>Toyota Hiace</td>\n",
              "      <td>10</td>\n",
              "      <td>5</td>\n",
              "      <td>8</td>\n",
              "      <td>6</td>\n",
              "      <td>5.00</td>\n",
              "    </tr>\n",
              "    <tr>\n",
              "      <th>12</th>\n",
              "      <td>Toyota Fortuner</td>\n",
              "      <td>9</td>\n",
              "      <td>8</td>\n",
              "      <td>5</td>\n",
              "      <td>8</td>\n",
              "      <td>5.00</td>\n",
              "    </tr>\n",
              "    <tr>\n",
              "      <th>13</th>\n",
              "      <td>Toyota Foxy</td>\n",
              "      <td>9</td>\n",
              "      <td>9</td>\n",
              "      <td>5</td>\n",
              "      <td>7</td>\n",
              "      <td>5.50</td>\n",
              "    </tr>\n",
              "    <tr>\n",
              "      <th>14</th>\n",
              "      <td>Toyota Corolla Altis</td>\n",
              "      <td>5</td>\n",
              "      <td>9</td>\n",
              "      <td>7</td>\n",
              "      <td>9</td>\n",
              "      <td>6.00</td>\n",
              "    </tr>\n",
              "    <tr>\n",
              "      <th>15</th>\n",
              "      <td>Suzuki Ertiga</td>\n",
              "      <td>7</td>\n",
              "      <td>7</td>\n",
              "      <td>7</td>\n",
              "      <td>7</td>\n",
              "      <td>2.30</td>\n",
              "    </tr>\n",
              "    <tr>\n",
              "      <th>16</th>\n",
              "      <td>Suzuki Carry</td>\n",
              "      <td>7</td>\n",
              "      <td>3</td>\n",
              "      <td>9</td>\n",
              "      <td>5</td>\n",
              "      <td>0.80</td>\n",
              "    </tr>\n",
              "  </tbody>\n",
              "</table>\n",
              "</div>"
            ],
            "text/plain": [
              "              Nama Mobil  Ukuran  ...  Kecepatan  Harga (Ratus Juta)\n",
              "0            Toyota Agya       4  ...          6                1.00\n",
              "1          Daihatsu Alya       4  ...          6                1.10\n",
              "2          Toyota Avanza       6  ...          6                2.00\n",
              "3         Daihatsu Xenia       6  ...          6                1.75\n",
              "4                Xpander       7  ...          7                2.25\n",
              "5                 Livina       7  ...          7                2.10\n",
              "6                Karimun       3  ...          5                1.20\n",
              "7          Toyota Innova       8  ...          7                4.00\n",
              "8                Alphard       9  ...          8               10.00\n",
              "9            Toyota Vios       5  ...          8                2.50\n",
              "10            Honda City       5  ...          8                2.70\n",
              "11          Toyota Hiace      10  ...          6                5.00\n",
              "12       Toyota Fortuner       9  ...          8                5.00\n",
              "13           Toyota Foxy       9  ...          7                5.50\n",
              "14  Toyota Corolla Altis       5  ...          9                6.00\n",
              "15         Suzuki Ertiga       7  ...          7                2.30\n",
              "16          Suzuki Carry       7  ...          5                0.80\n",
              "\n",
              "[17 rows x 6 columns]"
            ]
          },
          "metadata": {},
          "execution_count": 4
        }
      ]
    },
    {
      "cell_type": "markdown",
      "metadata": {
        "id": "oohQUZGfNA3-"
      },
      "source": [
        "------------------------------------------\n",
        "# Data Preprocessing"
      ]
    },
    {
      "cell_type": "markdown",
      "metadata": {
        "id": "q6vkdTayq8OJ"
      },
      "source": [
        "*Ringkasan lengkap dari Data Frame*"
      ]
    },
    {
      "cell_type": "code",
      "metadata": {
        "id": "uReJ8-JoGGTJ",
        "colab": {
          "base_uri": "https://localhost:8080/"
        },
        "outputId": "11764825-cf50-421a-fe01-ca6677eb245b"
      },
      "source": [
        "dataset.info()"
      ],
      "execution_count": null,
      "outputs": [
        {
          "output_type": "stream",
          "name": "stdout",
          "text": [
            "<class 'pandas.core.frame.DataFrame'>\n",
            "RangeIndex: 17 entries, 0 to 16\n",
            "Data columns (total 6 columns):\n",
            " #   Column              Non-Null Count  Dtype  \n",
            "---  ------              --------------  -----  \n",
            " 0   Nama Mobil          17 non-null     object \n",
            " 1   Ukuran              17 non-null     int64  \n",
            " 2   Kenyamanan          17 non-null     int64  \n",
            " 3   Irit                17 non-null     int64  \n",
            " 4   Kecepatan           17 non-null     int64  \n",
            " 5   Harga (Ratus Juta)  17 non-null     float64\n",
            "dtypes: float64(1), int64(4), object(1)\n",
            "memory usage: 944.0+ bytes\n"
          ]
        }
      ]
    },
    {
      "cell_type": "markdown",
      "metadata": {
        "id": "tzEDXUo3NJoM"
      },
      "source": [
        "*Mengecek Missing Value pada data frame*"
      ]
    },
    {
      "cell_type": "code",
      "metadata": {
        "id": "6hFIhOAIJKMo",
        "colab": {
          "base_uri": "https://localhost:8080/"
        },
        "outputId": "1aac5ef2-37a3-4c7d-8f8e-79ece3670a4e"
      },
      "source": [
        "dataset.isnull().sum()"
      ],
      "execution_count": null,
      "outputs": [
        {
          "output_type": "execute_result",
          "data": {
            "text/plain": [
              "Nama Mobil            0\n",
              "Ukuran                0\n",
              "Kenyamanan            0\n",
              "Irit                  0\n",
              "Kecepatan             0\n",
              "Harga (Ratus Juta)    0\n",
              "dtype: int64"
            ]
          },
          "metadata": {},
          "execution_count": 6
        }
      ]
    },
    {
      "cell_type": "markdown",
      "metadata": {
        "id": "xjJFNf5kqzX3"
      },
      "source": [
        "*Menampilkan kolom-kolom pada Data Frame*"
      ]
    },
    {
      "cell_type": "code",
      "metadata": {
        "id": "NPvXB8yVMTnn",
        "colab": {
          "base_uri": "https://localhost:8080/"
        },
        "outputId": "f5d9eca6-d04d-47af-bde1-9c760e1dac8b"
      },
      "source": [
        "dataset.columns"
      ],
      "execution_count": null,
      "outputs": [
        {
          "output_type": "execute_result",
          "data": {
            "text/plain": [
              "Index(['Nama Mobil', 'Ukuran', 'Kenyamanan', 'Irit', 'Kecepatan',\n",
              "       'Harga (Ratus Juta)'],\n",
              "      dtype='object')"
            ]
          },
          "metadata": {},
          "execution_count": 7
        }
      ]
    },
    {
      "cell_type": "markdown",
      "metadata": {
        "id": "AzCAvBrfqkW_"
      },
      "source": [
        "*Rename kolom Harga (Ratus Juta)*"
      ]
    },
    {
      "cell_type": "code",
      "metadata": {
        "id": "Ka1YBZPEpsGG",
        "colab": {
          "base_uri": "https://localhost:8080/",
          "height": 142
        },
        "outputId": "c6e53557-e36b-4d8e-8bf5-c32142e039d3"
      },
      "source": [
        "data = dataset.rename({'Harga (Ratus Juta)':'Harga'}, axis=1)\n",
        "data.iloc[:3]"
      ],
      "execution_count": null,
      "outputs": [
        {
          "output_type": "execute_result",
          "data": {
            "text/html": [
              "<div>\n",
              "<style scoped>\n",
              "    .dataframe tbody tr th:only-of-type {\n",
              "        vertical-align: middle;\n",
              "    }\n",
              "\n",
              "    .dataframe tbody tr th {\n",
              "        vertical-align: top;\n",
              "    }\n",
              "\n",
              "    .dataframe thead th {\n",
              "        text-align: right;\n",
              "    }\n",
              "</style>\n",
              "<table border=\"1\" class=\"dataframe\">\n",
              "  <thead>\n",
              "    <tr style=\"text-align: right;\">\n",
              "      <th></th>\n",
              "      <th>Nama Mobil</th>\n",
              "      <th>Ukuran</th>\n",
              "      <th>Kenyamanan</th>\n",
              "      <th>Irit</th>\n",
              "      <th>Kecepatan</th>\n",
              "      <th>Harga</th>\n",
              "    </tr>\n",
              "  </thead>\n",
              "  <tbody>\n",
              "    <tr>\n",
              "      <th>0</th>\n",
              "      <td>Toyota Agya</td>\n",
              "      <td>4</td>\n",
              "      <td>4</td>\n",
              "      <td>9</td>\n",
              "      <td>6</td>\n",
              "      <td>1.0</td>\n",
              "    </tr>\n",
              "    <tr>\n",
              "      <th>1</th>\n",
              "      <td>Daihatsu Alya</td>\n",
              "      <td>4</td>\n",
              "      <td>3</td>\n",
              "      <td>9</td>\n",
              "      <td>6</td>\n",
              "      <td>1.1</td>\n",
              "    </tr>\n",
              "    <tr>\n",
              "      <th>2</th>\n",
              "      <td>Toyota Avanza</td>\n",
              "      <td>6</td>\n",
              "      <td>5</td>\n",
              "      <td>6</td>\n",
              "      <td>6</td>\n",
              "      <td>2.0</td>\n",
              "    </tr>\n",
              "  </tbody>\n",
              "</table>\n",
              "</div>"
            ],
            "text/plain": [
              "      Nama Mobil  Ukuran  Kenyamanan  Irit  Kecepatan  Harga\n",
              "0    Toyota Agya       4           4     9          6    1.0\n",
              "1  Daihatsu Alya       4           3     9          6    1.1\n",
              "2  Toyota Avanza       6           5     6          6    2.0"
            ]
          },
          "metadata": {},
          "execution_count": 8
        }
      ]
    },
    {
      "cell_type": "code",
      "metadata": {
        "id": "WMFrJsIoRbiU",
        "colab": {
          "base_uri": "https://localhost:8080/"
        },
        "outputId": "58a8ec96-1feb-44ff-95ee-d34fb602909b"
      },
      "source": [
        "type(data)"
      ],
      "execution_count": null,
      "outputs": [
        {
          "output_type": "execute_result",
          "data": {
            "text/plain": [
              "pandas.core.frame.DataFrame"
            ]
          },
          "metadata": {},
          "execution_count": 9
        }
      ]
    },
    {
      "cell_type": "markdown",
      "metadata": {
        "id": "dEmBOEVBrk-b"
      },
      "source": [
        "*Mendeskripsikan semua kolom Data Frame*"
      ]
    },
    {
      "cell_type": "code",
      "metadata": {
        "id": "p72jH5v2G1FZ",
        "colab": {
          "base_uri": "https://localhost:8080/",
          "height": 388
        },
        "outputId": "09f35f5b-51d6-47b5-bd91-e1588c201fc6"
      },
      "source": [
        "data.describe(include='all')"
      ],
      "execution_count": null,
      "outputs": [
        {
          "output_type": "execute_result",
          "data": {
            "text/html": [
              "<div>\n",
              "<style scoped>\n",
              "    .dataframe tbody tr th:only-of-type {\n",
              "        vertical-align: middle;\n",
              "    }\n",
              "\n",
              "    .dataframe tbody tr th {\n",
              "        vertical-align: top;\n",
              "    }\n",
              "\n",
              "    .dataframe thead th {\n",
              "        text-align: right;\n",
              "    }\n",
              "</style>\n",
              "<table border=\"1\" class=\"dataframe\">\n",
              "  <thead>\n",
              "    <tr style=\"text-align: right;\">\n",
              "      <th></th>\n",
              "      <th>Nama Mobil</th>\n",
              "      <th>Ukuran</th>\n",
              "      <th>Kenyamanan</th>\n",
              "      <th>Irit</th>\n",
              "      <th>Kecepatan</th>\n",
              "      <th>Harga</th>\n",
              "    </tr>\n",
              "  </thead>\n",
              "  <tbody>\n",
              "    <tr>\n",
              "      <th>count</th>\n",
              "      <td>17</td>\n",
              "      <td>17.000000</td>\n",
              "      <td>17.000000</td>\n",
              "      <td>17.000000</td>\n",
              "      <td>17.000000</td>\n",
              "      <td>17.000000</td>\n",
              "    </tr>\n",
              "    <tr>\n",
              "      <th>unique</th>\n",
              "      <td>17</td>\n",
              "      <td>NaN</td>\n",
              "      <td>NaN</td>\n",
              "      <td>NaN</td>\n",
              "      <td>NaN</td>\n",
              "      <td>NaN</td>\n",
              "    </tr>\n",
              "    <tr>\n",
              "      <th>top</th>\n",
              "      <td>Livina</td>\n",
              "      <td>NaN</td>\n",
              "      <td>NaN</td>\n",
              "      <td>NaN</td>\n",
              "      <td>NaN</td>\n",
              "      <td>NaN</td>\n",
              "    </tr>\n",
              "    <tr>\n",
              "      <th>freq</th>\n",
              "      <td>1</td>\n",
              "      <td>NaN</td>\n",
              "      <td>NaN</td>\n",
              "      <td>NaN</td>\n",
              "      <td>NaN</td>\n",
              "      <td>NaN</td>\n",
              "    </tr>\n",
              "    <tr>\n",
              "      <th>mean</th>\n",
              "      <td>NaN</td>\n",
              "      <td>6.529412</td>\n",
              "      <td>6.352941</td>\n",
              "      <td>6.941176</td>\n",
              "      <td>6.823529</td>\n",
              "      <td>3.247059</td>\n",
              "    </tr>\n",
              "    <tr>\n",
              "      <th>std</th>\n",
              "      <td>NaN</td>\n",
              "      <td>2.034627</td>\n",
              "      <td>2.234423</td>\n",
              "      <td>1.784327</td>\n",
              "      <td>1.131111</td>\n",
              "      <td>2.406597</td>\n",
              "    </tr>\n",
              "    <tr>\n",
              "      <th>min</th>\n",
              "      <td>NaN</td>\n",
              "      <td>3.000000</td>\n",
              "      <td>3.000000</td>\n",
              "      <td>4.000000</td>\n",
              "      <td>5.000000</td>\n",
              "      <td>0.800000</td>\n",
              "    </tr>\n",
              "    <tr>\n",
              "      <th>25%</th>\n",
              "      <td>NaN</td>\n",
              "      <td>5.000000</td>\n",
              "      <td>4.000000</td>\n",
              "      <td>6.000000</td>\n",
              "      <td>6.000000</td>\n",
              "      <td>1.750000</td>\n",
              "    </tr>\n",
              "    <tr>\n",
              "      <th>50%</th>\n",
              "      <td>NaN</td>\n",
              "      <td>7.000000</td>\n",
              "      <td>7.000000</td>\n",
              "      <td>7.000000</td>\n",
              "      <td>7.000000</td>\n",
              "      <td>2.300000</td>\n",
              "    </tr>\n",
              "    <tr>\n",
              "      <th>75%</th>\n",
              "      <td>NaN</td>\n",
              "      <td>8.000000</td>\n",
              "      <td>8.000000</td>\n",
              "      <td>9.000000</td>\n",
              "      <td>8.000000</td>\n",
              "      <td>5.000000</td>\n",
              "    </tr>\n",
              "    <tr>\n",
              "      <th>max</th>\n",
              "      <td>NaN</td>\n",
              "      <td>10.000000</td>\n",
              "      <td>10.000000</td>\n",
              "      <td>10.000000</td>\n",
              "      <td>9.000000</td>\n",
              "      <td>10.000000</td>\n",
              "    </tr>\n",
              "  </tbody>\n",
              "</table>\n",
              "</div>"
            ],
            "text/plain": [
              "       Nama Mobil     Ukuran  Kenyamanan       Irit  Kecepatan      Harga\n",
              "count          17  17.000000   17.000000  17.000000  17.000000  17.000000\n",
              "unique         17        NaN         NaN        NaN        NaN        NaN\n",
              "top        Livina        NaN         NaN        NaN        NaN        NaN\n",
              "freq            1        NaN         NaN        NaN        NaN        NaN\n",
              "mean          NaN   6.529412    6.352941   6.941176   6.823529   3.247059\n",
              "std           NaN   2.034627    2.234423   1.784327   1.131111   2.406597\n",
              "min           NaN   3.000000    3.000000   4.000000   5.000000   0.800000\n",
              "25%           NaN   5.000000    4.000000   6.000000   6.000000   1.750000\n",
              "50%           NaN   7.000000    7.000000   7.000000   7.000000   2.300000\n",
              "75%           NaN   8.000000    8.000000   9.000000   8.000000   5.000000\n",
              "max           NaN  10.000000   10.000000  10.000000   9.000000  10.000000"
            ]
          },
          "metadata": {},
          "execution_count": 10
        }
      ]
    },
    {
      "cell_type": "markdown",
      "metadata": {
        "id": "0uuBySSqsYBc"
      },
      "source": [
        "--------------------------------------------------------------------------------\n",
        "# Normalisasi Data"
      ]
    },
    {
      "cell_type": "code",
      "metadata": {
        "id": "U3XTsi4buChB"
      },
      "source": [
        "train_mobil = data[['Kenyamanan','Harga']]"
      ],
      "execution_count": null,
      "outputs": []
    },
    {
      "cell_type": "code",
      "metadata": {
        "id": "Bo4yrNF5G7OB"
      },
      "source": [
        "def normalisasi(data) :\n",
        "  return (data - data.min()) / (data.max() - data.min())"
      ],
      "execution_count": null,
      "outputs": []
    },
    {
      "cell_type": "code",
      "metadata": {
        "id": "vmB4lA7xTgJN",
        "colab": {
          "base_uri": "https://localhost:8080/",
          "height": 203
        },
        "outputId": "cf81cf0d-d431-4a67-b83f-fd4adca4f6f9"
      },
      "source": [
        "normalisasi(train_mobil).head()"
      ],
      "execution_count": null,
      "outputs": [
        {
          "output_type": "execute_result",
          "data": {
            "text/html": [
              "<div>\n",
              "<style scoped>\n",
              "    .dataframe tbody tr th:only-of-type {\n",
              "        vertical-align: middle;\n",
              "    }\n",
              "\n",
              "    .dataframe tbody tr th {\n",
              "        vertical-align: top;\n",
              "    }\n",
              "\n",
              "    .dataframe thead th {\n",
              "        text-align: right;\n",
              "    }\n",
              "</style>\n",
              "<table border=\"1\" class=\"dataframe\">\n",
              "  <thead>\n",
              "    <tr style=\"text-align: right;\">\n",
              "      <th></th>\n",
              "      <th>Kenyamanan</th>\n",
              "      <th>Harga</th>\n",
              "    </tr>\n",
              "  </thead>\n",
              "  <tbody>\n",
              "    <tr>\n",
              "      <th>0</th>\n",
              "      <td>0.142857</td>\n",
              "      <td>0.021739</td>\n",
              "    </tr>\n",
              "    <tr>\n",
              "      <th>1</th>\n",
              "      <td>0.000000</td>\n",
              "      <td>0.032609</td>\n",
              "    </tr>\n",
              "    <tr>\n",
              "      <th>2</th>\n",
              "      <td>0.285714</td>\n",
              "      <td>0.130435</td>\n",
              "    </tr>\n",
              "    <tr>\n",
              "      <th>3</th>\n",
              "      <td>0.142857</td>\n",
              "      <td>0.103261</td>\n",
              "    </tr>\n",
              "    <tr>\n",
              "      <th>4</th>\n",
              "      <td>0.571429</td>\n",
              "      <td>0.157609</td>\n",
              "    </tr>\n",
              "  </tbody>\n",
              "</table>\n",
              "</div>"
            ],
            "text/plain": [
              "   Kenyamanan     Harga\n",
              "0    0.142857  0.021739\n",
              "1    0.000000  0.032609\n",
              "2    0.285714  0.130435\n",
              "3    0.142857  0.103261\n",
              "4    0.571429  0.157609"
            ]
          },
          "metadata": {},
          "execution_count": 13
        }
      ]
    },
    {
      "cell_type": "markdown",
      "metadata": {
        "id": "nhKzFF0FP0mu"
      },
      "source": [
        "------------------------------------------\n",
        "# Metode"
      ]
    },
    {
      "cell_type": "markdown",
      "metadata": {
        "id": "ZPmyVRYfK_sJ"
      },
      "source": [
        "*Mengukur jarak tetangga dengan rumus Euclidean Distance*"
      ]
    },
    {
      "cell_type": "code",
      "metadata": {
        "id": "RXk47ApgdVor"
      },
      "source": [
        "def euclidean(train_mobil, test_mobil) :\n",
        "  euclid = []\n",
        "  for i in range(len(train_mobil)) :\n",
        "    euc = round(np.sqrt(((test_mobil[0] - train_mobil['Kenyamanan'][i])**2) + ((test_mobil[1] - train_mobil['Harga'][i])**2)), 2)\n",
        "    euclid.append(euc)\n",
        "  return euclid"
      ],
      "execution_count": null,
      "outputs": []
    },
    {
      "cell_type": "markdown",
      "metadata": {
        "id": "VoeMA4vsLJtG"
      },
      "source": [
        "*Mengukur jarak tetangga dengan rumus Manhattan Distance*"
      ]
    },
    {
      "cell_type": "code",
      "metadata": {
        "id": "tRUbmyuiIzWC"
      },
      "source": [
        "def manhattan(train_mobil, test_mobil) :\n",
        "  manhat = []\n",
        "  for i in range(len(train_mobil)) :\n",
        "    man = round((abs(test_mobil[0] - train_mobil['Kenyamanan'][i])) + (abs(test_mobil[1] - train_mobil['Harga'][i])), 2)\n",
        "    manhat.append(man)\n",
        "  return manhat "
      ],
      "execution_count": null,
      "outputs": []
    },
    {
      "cell_type": "markdown",
      "metadata": {
        "id": "gy7rMilJLLo5"
      },
      "source": [
        "*Mengukur jarak tetangga dengan rumus Minkowski Distance*"
      ]
    },
    {
      "cell_type": "code",
      "metadata": {
        "id": "oN3pYx5cdPaY"
      },
      "source": [
        "def minkowski(train_mobil, test_mobil) :\n",
        "  minkow = []\n",
        "  for i in range(len(train_mobil)) :\n",
        "    min = round(((abs(test_mobil[0] - train_mobil['Kenyamanan'][i])**3) + (abs(test_mobil[1] - train_mobil['Harga'][i]))**3)**(1.0/3), 2)\n",
        "    minkow.append(min)\n",
        "  return minkow "
      ],
      "execution_count": null,
      "outputs": []
    },
    {
      "cell_type": "markdown",
      "metadata": {
        "id": "ZnLLNYz2LNwz"
      },
      "source": [
        "*Mengukur jarak tetangga dengan rumus Supremum Distance*"
      ]
    },
    {
      "cell_type": "code",
      "metadata": {
        "id": "-9DcP5sudXRx"
      },
      "source": [
        "def supremum(train_mobil, test_mobil) :\n",
        "  supre = []\n",
        "  for i in range(len(train_mobil)) :\n",
        "    sup1 = round((abs(test_mobil[0] - train_mobil['Kenyamanan'][i])), 2)\n",
        "    sup2 = round((abs(test_mobil[1] - train_mobil['Harga'][i])), 2)\n",
        "    max_sup = max(sup1, sup2)\n",
        "    supre.append(max_sup)\n",
        "  return supre "
      ],
      "execution_count": null,
      "outputs": []
    },
    {
      "cell_type": "markdown",
      "metadata": {
        "id": "uPYZKbAp7xb4"
      },
      "source": [
        "*List Metode*"
      ]
    },
    {
      "cell_type": "code",
      "metadata": {
        "id": "2ibco77W7xFK"
      },
      "source": [
        "methods = ['Euclidian', 'Manhattan', 'Minkowski', 'Supremum']"
      ],
      "execution_count": null,
      "outputs": []
    },
    {
      "cell_type": "markdown",
      "metadata": {
        "id": "peGc7vWYi8jJ"
      },
      "source": [
        "------------------------------------------\n",
        "# Main Program"
      ]
    },
    {
      "cell_type": "markdown",
      "metadata": {
        "id": "McWL3WD0NCVS"
      },
      "source": [
        "*- Input Data Mobil Baru -*"
      ]
    },
    {
      "cell_type": "code",
      "metadata": {
        "colab": {
          "base_uri": "https://localhost:8080/"
        },
        "id": "ArK66Yxdi_UU",
        "outputId": "d2ca4149-3c10-4b8a-a86d-1e99f26799b1"
      },
      "source": [
        "print('\\033[1m- Data Testing -\\033[0m')\n",
        "print('Nama Mobil : Mobil X')\n",
        "kenyamanan = float(input('Kenyamanan : '))\n",
        "harga = float(input('Harga      : '))\n",
        "\n",
        "test_mobil = ([kenyamanan, harga])\n",
        "# print('Data Mobil Baru :', test_mobil)"
      ],
      "execution_count": null,
      "outputs": [
        {
          "name": "stdout",
          "output_type": "stream",
          "text": [
            "\u001b[1m- Data Testing -\u001b[0m\n",
            "Nama Mobil : Mobil X\n",
            "Kenyamanan : 5\n",
            "Harga      : 2.5\n"
          ]
        }
      ]
    },
    {
      "cell_type": "markdown",
      "metadata": {
        "id": "aLXck69kgLUd"
      },
      "source": [
        "***# Euclidean Result***"
      ]
    },
    {
      "cell_type": "code",
      "metadata": {
        "id": "ywYnRGBDegQv",
        "colab": {
          "base_uri": "https://localhost:8080/"
        },
        "outputId": "33267221-df42-405b-9b29-03cbfd429fdb"
      },
      "source": [
        "print(euclidean(train_mobil, test_mobil))"
      ],
      "execution_count": null,
      "outputs": [
        {
          "output_type": "stream",
          "name": "stdout",
          "text": [
            "[1.8, 2.44, 0.5, 1.25, 2.02, 2.04, 1.64, 3.35, 9.01, 2.0, 3.01, 2.5, 3.91, 5.0, 5.32, 2.01, 2.62]\n"
          ]
        }
      ]
    },
    {
      "cell_type": "code",
      "metadata": {
        "id": "kA8-UsD6WqGJ"
      },
      "source": [
        "jarak_euc = euclidean(train_mobil, test_mobil)\n",
        "data_euclid = data.copy()\n",
        "data_euclid['Jarak Euclidean'] = jarak_euc\n",
        "data_euc1 = data_euclid.sort_values('Jarak Euclidean')\n",
        "data_euc = data_euc1.reset_index(drop=True)"
      ],
      "execution_count": null,
      "outputs": []
    },
    {
      "cell_type": "code",
      "metadata": {
        "id": "PISnQWgp5KbO",
        "colab": {
          "base_uri": "https://localhost:8080/",
          "height": 573
        },
        "outputId": "bfdca015-a352-414d-c809-3be95413115c"
      },
      "source": [
        "data_euc"
      ],
      "execution_count": null,
      "outputs": [
        {
          "output_type": "execute_result",
          "data": {
            "text/html": [
              "<div>\n",
              "<style scoped>\n",
              "    .dataframe tbody tr th:only-of-type {\n",
              "        vertical-align: middle;\n",
              "    }\n",
              "\n",
              "    .dataframe tbody tr th {\n",
              "        vertical-align: top;\n",
              "    }\n",
              "\n",
              "    .dataframe thead th {\n",
              "        text-align: right;\n",
              "    }\n",
              "</style>\n",
              "<table border=\"1\" class=\"dataframe\">\n",
              "  <thead>\n",
              "    <tr style=\"text-align: right;\">\n",
              "      <th></th>\n",
              "      <th>Nama Mobil</th>\n",
              "      <th>Ukuran</th>\n",
              "      <th>Kenyamanan</th>\n",
              "      <th>Irit</th>\n",
              "      <th>Kecepatan</th>\n",
              "      <th>Harga</th>\n",
              "      <th>Jarak Euclidean</th>\n",
              "    </tr>\n",
              "  </thead>\n",
              "  <tbody>\n",
              "    <tr>\n",
              "      <th>0</th>\n",
              "      <td>Toyota Avanza</td>\n",
              "      <td>6</td>\n",
              "      <td>5</td>\n",
              "      <td>6</td>\n",
              "      <td>6</td>\n",
              "      <td>2.00</td>\n",
              "      <td>0.50</td>\n",
              "    </tr>\n",
              "    <tr>\n",
              "      <th>1</th>\n",
              "      <td>Daihatsu Xenia</td>\n",
              "      <td>6</td>\n",
              "      <td>4</td>\n",
              "      <td>6</td>\n",
              "      <td>6</td>\n",
              "      <td>1.75</td>\n",
              "      <td>1.25</td>\n",
              "    </tr>\n",
              "    <tr>\n",
              "      <th>2</th>\n",
              "      <td>Karimun</td>\n",
              "      <td>3</td>\n",
              "      <td>4</td>\n",
              "      <td>10</td>\n",
              "      <td>5</td>\n",
              "      <td>1.20</td>\n",
              "      <td>1.64</td>\n",
              "    </tr>\n",
              "    <tr>\n",
              "      <th>3</th>\n",
              "      <td>Toyota Agya</td>\n",
              "      <td>4</td>\n",
              "      <td>4</td>\n",
              "      <td>9</td>\n",
              "      <td>6</td>\n",
              "      <td>1.00</td>\n",
              "      <td>1.80</td>\n",
              "    </tr>\n",
              "    <tr>\n",
              "      <th>4</th>\n",
              "      <td>Toyota Vios</td>\n",
              "      <td>5</td>\n",
              "      <td>7</td>\n",
              "      <td>9</td>\n",
              "      <td>8</td>\n",
              "      <td>2.50</td>\n",
              "      <td>2.00</td>\n",
              "    </tr>\n",
              "    <tr>\n",
              "      <th>5</th>\n",
              "      <td>Suzuki Ertiga</td>\n",
              "      <td>7</td>\n",
              "      <td>7</td>\n",
              "      <td>7</td>\n",
              "      <td>7</td>\n",
              "      <td>2.30</td>\n",
              "      <td>2.01</td>\n",
              "    </tr>\n",
              "    <tr>\n",
              "      <th>6</th>\n",
              "      <td>Xpander</td>\n",
              "      <td>7</td>\n",
              "      <td>7</td>\n",
              "      <td>6</td>\n",
              "      <td>7</td>\n",
              "      <td>2.25</td>\n",
              "      <td>2.02</td>\n",
              "    </tr>\n",
              "    <tr>\n",
              "      <th>7</th>\n",
              "      <td>Livina</td>\n",
              "      <td>7</td>\n",
              "      <td>7</td>\n",
              "      <td>6</td>\n",
              "      <td>7</td>\n",
              "      <td>2.10</td>\n",
              "      <td>2.04</td>\n",
              "    </tr>\n",
              "    <tr>\n",
              "      <th>8</th>\n",
              "      <td>Daihatsu Alya</td>\n",
              "      <td>4</td>\n",
              "      <td>3</td>\n",
              "      <td>9</td>\n",
              "      <td>6</td>\n",
              "      <td>1.10</td>\n",
              "      <td>2.44</td>\n",
              "    </tr>\n",
              "    <tr>\n",
              "      <th>9</th>\n",
              "      <td>Toyota Hiace</td>\n",
              "      <td>10</td>\n",
              "      <td>5</td>\n",
              "      <td>8</td>\n",
              "      <td>6</td>\n",
              "      <td>5.00</td>\n",
              "      <td>2.50</td>\n",
              "    </tr>\n",
              "    <tr>\n",
              "      <th>10</th>\n",
              "      <td>Suzuki Carry</td>\n",
              "      <td>7</td>\n",
              "      <td>3</td>\n",
              "      <td>9</td>\n",
              "      <td>5</td>\n",
              "      <td>0.80</td>\n",
              "      <td>2.62</td>\n",
              "    </tr>\n",
              "    <tr>\n",
              "      <th>11</th>\n",
              "      <td>Honda City</td>\n",
              "      <td>5</td>\n",
              "      <td>8</td>\n",
              "      <td>7</td>\n",
              "      <td>8</td>\n",
              "      <td>2.70</td>\n",
              "      <td>3.01</td>\n",
              "    </tr>\n",
              "    <tr>\n",
              "      <th>12</th>\n",
              "      <td>Toyota Innova</td>\n",
              "      <td>8</td>\n",
              "      <td>8</td>\n",
              "      <td>5</td>\n",
              "      <td>7</td>\n",
              "      <td>4.00</td>\n",
              "      <td>3.35</td>\n",
              "    </tr>\n",
              "    <tr>\n",
              "      <th>13</th>\n",
              "      <td>Toyota Fortuner</td>\n",
              "      <td>9</td>\n",
              "      <td>8</td>\n",
              "      <td>5</td>\n",
              "      <td>8</td>\n",
              "      <td>5.00</td>\n",
              "      <td>3.91</td>\n",
              "    </tr>\n",
              "    <tr>\n",
              "      <th>14</th>\n",
              "      <td>Toyota Foxy</td>\n",
              "      <td>9</td>\n",
              "      <td>9</td>\n",
              "      <td>5</td>\n",
              "      <td>7</td>\n",
              "      <td>5.50</td>\n",
              "      <td>5.00</td>\n",
              "    </tr>\n",
              "    <tr>\n",
              "      <th>15</th>\n",
              "      <td>Toyota Corolla Altis</td>\n",
              "      <td>5</td>\n",
              "      <td>9</td>\n",
              "      <td>7</td>\n",
              "      <td>9</td>\n",
              "      <td>6.00</td>\n",
              "      <td>5.32</td>\n",
              "    </tr>\n",
              "    <tr>\n",
              "      <th>16</th>\n",
              "      <td>Alphard</td>\n",
              "      <td>9</td>\n",
              "      <td>10</td>\n",
              "      <td>4</td>\n",
              "      <td>8</td>\n",
              "      <td>10.00</td>\n",
              "      <td>9.01</td>\n",
              "    </tr>\n",
              "  </tbody>\n",
              "</table>\n",
              "</div>"
            ],
            "text/plain": [
              "              Nama Mobil  Ukuran  Kenyamanan  ...  Kecepatan  Harga  Jarak Euclidean\n",
              "0          Toyota Avanza       6           5  ...          6   2.00             0.50\n",
              "1         Daihatsu Xenia       6           4  ...          6   1.75             1.25\n",
              "2                Karimun       3           4  ...          5   1.20             1.64\n",
              "3            Toyota Agya       4           4  ...          6   1.00             1.80\n",
              "4            Toyota Vios       5           7  ...          8   2.50             2.00\n",
              "5          Suzuki Ertiga       7           7  ...          7   2.30             2.01\n",
              "6                Xpander       7           7  ...          7   2.25             2.02\n",
              "7                 Livina       7           7  ...          7   2.10             2.04\n",
              "8          Daihatsu Alya       4           3  ...          6   1.10             2.44\n",
              "9           Toyota Hiace      10           5  ...          6   5.00             2.50\n",
              "10          Suzuki Carry       7           3  ...          5   0.80             2.62\n",
              "11            Honda City       5           8  ...          8   2.70             3.01\n",
              "12         Toyota Innova       8           8  ...          7   4.00             3.35\n",
              "13       Toyota Fortuner       9           8  ...          8   5.00             3.91\n",
              "14           Toyota Foxy       9           9  ...          7   5.50             5.00\n",
              "15  Toyota Corolla Altis       5           9  ...          9   6.00             5.32\n",
              "16               Alphard       9          10  ...          8  10.00             9.01\n",
              "\n",
              "[17 rows x 7 columns]"
            ]
          },
          "metadata": {},
          "execution_count": 22
        }
      ]
    },
    {
      "cell_type": "markdown",
      "metadata": {
        "id": "VFo281Yth1OI"
      },
      "source": [
        "***# Manhattan Result***"
      ]
    },
    {
      "cell_type": "code",
      "metadata": {
        "id": "pR7tWKDhgVEY",
        "colab": {
          "base_uri": "https://localhost:8080/"
        },
        "outputId": "28c80d18-aa46-4563-e4b3-2ba2e4578afa"
      },
      "source": [
        "print(manhattan(train_mobil, test_mobil))"
      ],
      "execution_count": null,
      "outputs": [
        {
          "output_type": "stream",
          "name": "stdout",
          "text": [
            "[2.5, 3.4, 0.5, 1.75, 2.25, 2.4, 2.3, 4.5, 12.5, 2.0, 3.2, 2.5, 5.5, 7.0, 7.5, 2.2, 3.7]\n"
          ]
        }
      ]
    },
    {
      "cell_type": "code",
      "metadata": {
        "id": "nbenrD7eiHGu"
      },
      "source": [
        "jarak_man = manhattan(train_mobil, test_mobil)\n",
        "data_manhat = data.copy()\n",
        "data_manhat['Jarak Manhattan'] = jarak_man\n",
        "data_manhat.sort_values('Jarak Manhattan')\n",
        "data_man1 = data_manhat.sort_values('Jarak Manhattan')\n",
        "data_man = data_man1.reset_index(drop=True)"
      ],
      "execution_count": null,
      "outputs": []
    },
    {
      "cell_type": "code",
      "metadata": {
        "id": "f8DbRhcf61gn",
        "colab": {
          "base_uri": "https://localhost:8080/",
          "height": 573
        },
        "outputId": "b6bd0673-f5e0-4122-c17a-db8e32e07b7b"
      },
      "source": [
        "data_man"
      ],
      "execution_count": null,
      "outputs": [
        {
          "output_type": "execute_result",
          "data": {
            "text/html": [
              "<div>\n",
              "<style scoped>\n",
              "    .dataframe tbody tr th:only-of-type {\n",
              "        vertical-align: middle;\n",
              "    }\n",
              "\n",
              "    .dataframe tbody tr th {\n",
              "        vertical-align: top;\n",
              "    }\n",
              "\n",
              "    .dataframe thead th {\n",
              "        text-align: right;\n",
              "    }\n",
              "</style>\n",
              "<table border=\"1\" class=\"dataframe\">\n",
              "  <thead>\n",
              "    <tr style=\"text-align: right;\">\n",
              "      <th></th>\n",
              "      <th>Nama Mobil</th>\n",
              "      <th>Ukuran</th>\n",
              "      <th>Kenyamanan</th>\n",
              "      <th>Irit</th>\n",
              "      <th>Kecepatan</th>\n",
              "      <th>Harga</th>\n",
              "      <th>Jarak Manhattan</th>\n",
              "    </tr>\n",
              "  </thead>\n",
              "  <tbody>\n",
              "    <tr>\n",
              "      <th>0</th>\n",
              "      <td>Toyota Avanza</td>\n",
              "      <td>6</td>\n",
              "      <td>5</td>\n",
              "      <td>6</td>\n",
              "      <td>6</td>\n",
              "      <td>2.00</td>\n",
              "      <td>0.50</td>\n",
              "    </tr>\n",
              "    <tr>\n",
              "      <th>1</th>\n",
              "      <td>Daihatsu Xenia</td>\n",
              "      <td>6</td>\n",
              "      <td>4</td>\n",
              "      <td>6</td>\n",
              "      <td>6</td>\n",
              "      <td>1.75</td>\n",
              "      <td>1.75</td>\n",
              "    </tr>\n",
              "    <tr>\n",
              "      <th>2</th>\n",
              "      <td>Toyota Vios</td>\n",
              "      <td>5</td>\n",
              "      <td>7</td>\n",
              "      <td>9</td>\n",
              "      <td>8</td>\n",
              "      <td>2.50</td>\n",
              "      <td>2.00</td>\n",
              "    </tr>\n",
              "    <tr>\n",
              "      <th>3</th>\n",
              "      <td>Suzuki Ertiga</td>\n",
              "      <td>7</td>\n",
              "      <td>7</td>\n",
              "      <td>7</td>\n",
              "      <td>7</td>\n",
              "      <td>2.30</td>\n",
              "      <td>2.20</td>\n",
              "    </tr>\n",
              "    <tr>\n",
              "      <th>4</th>\n",
              "      <td>Xpander</td>\n",
              "      <td>7</td>\n",
              "      <td>7</td>\n",
              "      <td>6</td>\n",
              "      <td>7</td>\n",
              "      <td>2.25</td>\n",
              "      <td>2.25</td>\n",
              "    </tr>\n",
              "    <tr>\n",
              "      <th>5</th>\n",
              "      <td>Karimun</td>\n",
              "      <td>3</td>\n",
              "      <td>4</td>\n",
              "      <td>10</td>\n",
              "      <td>5</td>\n",
              "      <td>1.20</td>\n",
              "      <td>2.30</td>\n",
              "    </tr>\n",
              "    <tr>\n",
              "      <th>6</th>\n",
              "      <td>Livina</td>\n",
              "      <td>7</td>\n",
              "      <td>7</td>\n",
              "      <td>6</td>\n",
              "      <td>7</td>\n",
              "      <td>2.10</td>\n",
              "      <td>2.40</td>\n",
              "    </tr>\n",
              "    <tr>\n",
              "      <th>7</th>\n",
              "      <td>Toyota Agya</td>\n",
              "      <td>4</td>\n",
              "      <td>4</td>\n",
              "      <td>9</td>\n",
              "      <td>6</td>\n",
              "      <td>1.00</td>\n",
              "      <td>2.50</td>\n",
              "    </tr>\n",
              "    <tr>\n",
              "      <th>8</th>\n",
              "      <td>Toyota Hiace</td>\n",
              "      <td>10</td>\n",
              "      <td>5</td>\n",
              "      <td>8</td>\n",
              "      <td>6</td>\n",
              "      <td>5.00</td>\n",
              "      <td>2.50</td>\n",
              "    </tr>\n",
              "    <tr>\n",
              "      <th>9</th>\n",
              "      <td>Honda City</td>\n",
              "      <td>5</td>\n",
              "      <td>8</td>\n",
              "      <td>7</td>\n",
              "      <td>8</td>\n",
              "      <td>2.70</td>\n",
              "      <td>3.20</td>\n",
              "    </tr>\n",
              "    <tr>\n",
              "      <th>10</th>\n",
              "      <td>Daihatsu Alya</td>\n",
              "      <td>4</td>\n",
              "      <td>3</td>\n",
              "      <td>9</td>\n",
              "      <td>6</td>\n",
              "      <td>1.10</td>\n",
              "      <td>3.40</td>\n",
              "    </tr>\n",
              "    <tr>\n",
              "      <th>11</th>\n",
              "      <td>Suzuki Carry</td>\n",
              "      <td>7</td>\n",
              "      <td>3</td>\n",
              "      <td>9</td>\n",
              "      <td>5</td>\n",
              "      <td>0.80</td>\n",
              "      <td>3.70</td>\n",
              "    </tr>\n",
              "    <tr>\n",
              "      <th>12</th>\n",
              "      <td>Toyota Innova</td>\n",
              "      <td>8</td>\n",
              "      <td>8</td>\n",
              "      <td>5</td>\n",
              "      <td>7</td>\n",
              "      <td>4.00</td>\n",
              "      <td>4.50</td>\n",
              "    </tr>\n",
              "    <tr>\n",
              "      <th>13</th>\n",
              "      <td>Toyota Fortuner</td>\n",
              "      <td>9</td>\n",
              "      <td>8</td>\n",
              "      <td>5</td>\n",
              "      <td>8</td>\n",
              "      <td>5.00</td>\n",
              "      <td>5.50</td>\n",
              "    </tr>\n",
              "    <tr>\n",
              "      <th>14</th>\n",
              "      <td>Toyota Foxy</td>\n",
              "      <td>9</td>\n",
              "      <td>9</td>\n",
              "      <td>5</td>\n",
              "      <td>7</td>\n",
              "      <td>5.50</td>\n",
              "      <td>7.00</td>\n",
              "    </tr>\n",
              "    <tr>\n",
              "      <th>15</th>\n",
              "      <td>Toyota Corolla Altis</td>\n",
              "      <td>5</td>\n",
              "      <td>9</td>\n",
              "      <td>7</td>\n",
              "      <td>9</td>\n",
              "      <td>6.00</td>\n",
              "      <td>7.50</td>\n",
              "    </tr>\n",
              "    <tr>\n",
              "      <th>16</th>\n",
              "      <td>Alphard</td>\n",
              "      <td>9</td>\n",
              "      <td>10</td>\n",
              "      <td>4</td>\n",
              "      <td>8</td>\n",
              "      <td>10.00</td>\n",
              "      <td>12.50</td>\n",
              "    </tr>\n",
              "  </tbody>\n",
              "</table>\n",
              "</div>"
            ],
            "text/plain": [
              "              Nama Mobil  Ukuran  Kenyamanan  ...  Kecepatan  Harga  Jarak Manhattan\n",
              "0          Toyota Avanza       6           5  ...          6   2.00             0.50\n",
              "1         Daihatsu Xenia       6           4  ...          6   1.75             1.75\n",
              "2            Toyota Vios       5           7  ...          8   2.50             2.00\n",
              "3          Suzuki Ertiga       7           7  ...          7   2.30             2.20\n",
              "4                Xpander       7           7  ...          7   2.25             2.25\n",
              "5                Karimun       3           4  ...          5   1.20             2.30\n",
              "6                 Livina       7           7  ...          7   2.10             2.40\n",
              "7            Toyota Agya       4           4  ...          6   1.00             2.50\n",
              "8           Toyota Hiace      10           5  ...          6   5.00             2.50\n",
              "9             Honda City       5           8  ...          8   2.70             3.20\n",
              "10         Daihatsu Alya       4           3  ...          6   1.10             3.40\n",
              "11          Suzuki Carry       7           3  ...          5   0.80             3.70\n",
              "12         Toyota Innova       8           8  ...          7   4.00             4.50\n",
              "13       Toyota Fortuner       9           8  ...          8   5.00             5.50\n",
              "14           Toyota Foxy       9           9  ...          7   5.50             7.00\n",
              "15  Toyota Corolla Altis       5           9  ...          9   6.00             7.50\n",
              "16               Alphard       9          10  ...          8  10.00            12.50\n",
              "\n",
              "[17 rows x 7 columns]"
            ]
          },
          "metadata": {},
          "execution_count": 25
        }
      ]
    },
    {
      "cell_type": "markdown",
      "metadata": {
        "id": "dA2wTwd3pMNs"
      },
      "source": [
        "***# Minkowski Result***"
      ]
    },
    {
      "cell_type": "code",
      "metadata": {
        "id": "3ugV4efHlOaq",
        "colab": {
          "base_uri": "https://localhost:8080/"
        },
        "outputId": "92be2f15-15e8-4fd4-da47-a6f0afe37cd3"
      },
      "source": [
        "print(minkowski(train_mobil, test_mobil))"
      ],
      "execution_count": null,
      "outputs": [
        {
          "output_type": "stream",
          "name": "stdout",
          "text": [
            "[1.64, 2.21, 0.5, 1.12, 2.0, 2.01, 1.47, 3.12, 8.18, 2.0, 3.0, 2.5, 3.49, 4.5, 4.75, 2.0, 2.35]\n"
          ]
        }
      ]
    },
    {
      "cell_type": "code",
      "metadata": {
        "id": "iIRaf8iIpRvl"
      },
      "source": [
        "jarak_min = minkowski(train_mobil, test_mobil)\n",
        "data_minkow = data.copy()\n",
        "data_minkow['Jarak Minkowski'] = jarak_min\n",
        "data_minkow.sort_values('Jarak Minkowski')\n",
        "data_min1 = data_minkow.sort_values('Jarak Minkowski')\n",
        "data_min = data_min1.reset_index(drop=True)"
      ],
      "execution_count": null,
      "outputs": []
    },
    {
      "cell_type": "code",
      "metadata": {
        "id": "fwzoVNFl-Oug",
        "colab": {
          "base_uri": "https://localhost:8080/",
          "height": 573
        },
        "outputId": "54f20ca4-2a57-47be-d08c-37a29478211e"
      },
      "source": [
        "data_min"
      ],
      "execution_count": null,
      "outputs": [
        {
          "output_type": "execute_result",
          "data": {
            "text/html": [
              "<div>\n",
              "<style scoped>\n",
              "    .dataframe tbody tr th:only-of-type {\n",
              "        vertical-align: middle;\n",
              "    }\n",
              "\n",
              "    .dataframe tbody tr th {\n",
              "        vertical-align: top;\n",
              "    }\n",
              "\n",
              "    .dataframe thead th {\n",
              "        text-align: right;\n",
              "    }\n",
              "</style>\n",
              "<table border=\"1\" class=\"dataframe\">\n",
              "  <thead>\n",
              "    <tr style=\"text-align: right;\">\n",
              "      <th></th>\n",
              "      <th>Nama Mobil</th>\n",
              "      <th>Ukuran</th>\n",
              "      <th>Kenyamanan</th>\n",
              "      <th>Irit</th>\n",
              "      <th>Kecepatan</th>\n",
              "      <th>Harga</th>\n",
              "      <th>Jarak Minkowski</th>\n",
              "    </tr>\n",
              "  </thead>\n",
              "  <tbody>\n",
              "    <tr>\n",
              "      <th>0</th>\n",
              "      <td>Toyota Avanza</td>\n",
              "      <td>6</td>\n",
              "      <td>5</td>\n",
              "      <td>6</td>\n",
              "      <td>6</td>\n",
              "      <td>2.00</td>\n",
              "      <td>0.50</td>\n",
              "    </tr>\n",
              "    <tr>\n",
              "      <th>1</th>\n",
              "      <td>Daihatsu Xenia</td>\n",
              "      <td>6</td>\n",
              "      <td>4</td>\n",
              "      <td>6</td>\n",
              "      <td>6</td>\n",
              "      <td>1.75</td>\n",
              "      <td>1.12</td>\n",
              "    </tr>\n",
              "    <tr>\n",
              "      <th>2</th>\n",
              "      <td>Karimun</td>\n",
              "      <td>3</td>\n",
              "      <td>4</td>\n",
              "      <td>10</td>\n",
              "      <td>5</td>\n",
              "      <td>1.20</td>\n",
              "      <td>1.47</td>\n",
              "    </tr>\n",
              "    <tr>\n",
              "      <th>3</th>\n",
              "      <td>Toyota Agya</td>\n",
              "      <td>4</td>\n",
              "      <td>4</td>\n",
              "      <td>9</td>\n",
              "      <td>6</td>\n",
              "      <td>1.00</td>\n",
              "      <td>1.64</td>\n",
              "    </tr>\n",
              "    <tr>\n",
              "      <th>4</th>\n",
              "      <td>Xpander</td>\n",
              "      <td>7</td>\n",
              "      <td>7</td>\n",
              "      <td>6</td>\n",
              "      <td>7</td>\n",
              "      <td>2.25</td>\n",
              "      <td>2.00</td>\n",
              "    </tr>\n",
              "    <tr>\n",
              "      <th>5</th>\n",
              "      <td>Toyota Vios</td>\n",
              "      <td>5</td>\n",
              "      <td>7</td>\n",
              "      <td>9</td>\n",
              "      <td>8</td>\n",
              "      <td>2.50</td>\n",
              "      <td>2.00</td>\n",
              "    </tr>\n",
              "    <tr>\n",
              "      <th>6</th>\n",
              "      <td>Suzuki Ertiga</td>\n",
              "      <td>7</td>\n",
              "      <td>7</td>\n",
              "      <td>7</td>\n",
              "      <td>7</td>\n",
              "      <td>2.30</td>\n",
              "      <td>2.00</td>\n",
              "    </tr>\n",
              "    <tr>\n",
              "      <th>7</th>\n",
              "      <td>Livina</td>\n",
              "      <td>7</td>\n",
              "      <td>7</td>\n",
              "      <td>6</td>\n",
              "      <td>7</td>\n",
              "      <td>2.10</td>\n",
              "      <td>2.01</td>\n",
              "    </tr>\n",
              "    <tr>\n",
              "      <th>8</th>\n",
              "      <td>Daihatsu Alya</td>\n",
              "      <td>4</td>\n",
              "      <td>3</td>\n",
              "      <td>9</td>\n",
              "      <td>6</td>\n",
              "      <td>1.10</td>\n",
              "      <td>2.21</td>\n",
              "    </tr>\n",
              "    <tr>\n",
              "      <th>9</th>\n",
              "      <td>Suzuki Carry</td>\n",
              "      <td>7</td>\n",
              "      <td>3</td>\n",
              "      <td>9</td>\n",
              "      <td>5</td>\n",
              "      <td>0.80</td>\n",
              "      <td>2.35</td>\n",
              "    </tr>\n",
              "    <tr>\n",
              "      <th>10</th>\n",
              "      <td>Toyota Hiace</td>\n",
              "      <td>10</td>\n",
              "      <td>5</td>\n",
              "      <td>8</td>\n",
              "      <td>6</td>\n",
              "      <td>5.00</td>\n",
              "      <td>2.50</td>\n",
              "    </tr>\n",
              "    <tr>\n",
              "      <th>11</th>\n",
              "      <td>Honda City</td>\n",
              "      <td>5</td>\n",
              "      <td>8</td>\n",
              "      <td>7</td>\n",
              "      <td>8</td>\n",
              "      <td>2.70</td>\n",
              "      <td>3.00</td>\n",
              "    </tr>\n",
              "    <tr>\n",
              "      <th>12</th>\n",
              "      <td>Toyota Innova</td>\n",
              "      <td>8</td>\n",
              "      <td>8</td>\n",
              "      <td>5</td>\n",
              "      <td>7</td>\n",
              "      <td>4.00</td>\n",
              "      <td>3.12</td>\n",
              "    </tr>\n",
              "    <tr>\n",
              "      <th>13</th>\n",
              "      <td>Toyota Fortuner</td>\n",
              "      <td>9</td>\n",
              "      <td>8</td>\n",
              "      <td>5</td>\n",
              "      <td>8</td>\n",
              "      <td>5.00</td>\n",
              "      <td>3.49</td>\n",
              "    </tr>\n",
              "    <tr>\n",
              "      <th>14</th>\n",
              "      <td>Toyota Foxy</td>\n",
              "      <td>9</td>\n",
              "      <td>9</td>\n",
              "      <td>5</td>\n",
              "      <td>7</td>\n",
              "      <td>5.50</td>\n",
              "      <td>4.50</td>\n",
              "    </tr>\n",
              "    <tr>\n",
              "      <th>15</th>\n",
              "      <td>Toyota Corolla Altis</td>\n",
              "      <td>5</td>\n",
              "      <td>9</td>\n",
              "      <td>7</td>\n",
              "      <td>9</td>\n",
              "      <td>6.00</td>\n",
              "      <td>4.75</td>\n",
              "    </tr>\n",
              "    <tr>\n",
              "      <th>16</th>\n",
              "      <td>Alphard</td>\n",
              "      <td>9</td>\n",
              "      <td>10</td>\n",
              "      <td>4</td>\n",
              "      <td>8</td>\n",
              "      <td>10.00</td>\n",
              "      <td>8.18</td>\n",
              "    </tr>\n",
              "  </tbody>\n",
              "</table>\n",
              "</div>"
            ],
            "text/plain": [
              "              Nama Mobil  Ukuran  Kenyamanan  ...  Kecepatan  Harga  Jarak Minkowski\n",
              "0          Toyota Avanza       6           5  ...          6   2.00             0.50\n",
              "1         Daihatsu Xenia       6           4  ...          6   1.75             1.12\n",
              "2                Karimun       3           4  ...          5   1.20             1.47\n",
              "3            Toyota Agya       4           4  ...          6   1.00             1.64\n",
              "4                Xpander       7           7  ...          7   2.25             2.00\n",
              "5            Toyota Vios       5           7  ...          8   2.50             2.00\n",
              "6          Suzuki Ertiga       7           7  ...          7   2.30             2.00\n",
              "7                 Livina       7           7  ...          7   2.10             2.01\n",
              "8          Daihatsu Alya       4           3  ...          6   1.10             2.21\n",
              "9           Suzuki Carry       7           3  ...          5   0.80             2.35\n",
              "10          Toyota Hiace      10           5  ...          6   5.00             2.50\n",
              "11            Honda City       5           8  ...          8   2.70             3.00\n",
              "12         Toyota Innova       8           8  ...          7   4.00             3.12\n",
              "13       Toyota Fortuner       9           8  ...          8   5.00             3.49\n",
              "14           Toyota Foxy       9           9  ...          7   5.50             4.50\n",
              "15  Toyota Corolla Altis       5           9  ...          9   6.00             4.75\n",
              "16               Alphard       9          10  ...          8  10.00             8.18\n",
              "\n",
              "[17 rows x 7 columns]"
            ]
          },
          "metadata": {},
          "execution_count": 28
        }
      ]
    },
    {
      "cell_type": "markdown",
      "metadata": {
        "id": "iDSEtMnNqAGp"
      },
      "source": [
        "***# Supremum Result***"
      ]
    },
    {
      "cell_type": "code",
      "metadata": {
        "id": "0W6hnxX5rpFb",
        "colab": {
          "base_uri": "https://localhost:8080/"
        },
        "outputId": "78147fa4-d0e4-43f5-b765-4d9b9c7cdff4"
      },
      "source": [
        "print(supremum(train_mobil, test_mobil))"
      ],
      "execution_count": null,
      "outputs": [
        {
          "output_type": "stream",
          "name": "stdout",
          "text": [
            "[1.5, 2.0, 0.5, 1.0, 2.0, 2.0, 1.3, 3.0, 7.5, 2.0, 3.0, 2.5, 3.0, 4.0, 4.0, 2.0, 2.0]\n"
          ]
        }
      ]
    },
    {
      "cell_type": "code",
      "metadata": {
        "id": "0A7byEaqsgZT"
      },
      "source": [
        "jarak_sup = supremum(train_mobil, test_mobil)\n",
        "data_supre = data.copy()\n",
        "data_supre['Jarak Supremum'] = jarak_sup\n",
        "data_supre.sort_values('Jarak Supremum')\n",
        "data_sup1 = data_supre.sort_values('Jarak Supremum')\n",
        "data_sup = data_sup1.reset_index(drop=True)"
      ],
      "execution_count": null,
      "outputs": []
    },
    {
      "cell_type": "code",
      "metadata": {
        "id": "oVCA7mmF-Wwj",
        "colab": {
          "base_uri": "https://localhost:8080/",
          "height": 573
        },
        "outputId": "0ad252b1-be9c-49ec-ce9b-4cd648ebe6a9"
      },
      "source": [
        "data_sup"
      ],
      "execution_count": null,
      "outputs": [
        {
          "output_type": "execute_result",
          "data": {
            "text/html": [
              "<div>\n",
              "<style scoped>\n",
              "    .dataframe tbody tr th:only-of-type {\n",
              "        vertical-align: middle;\n",
              "    }\n",
              "\n",
              "    .dataframe tbody tr th {\n",
              "        vertical-align: top;\n",
              "    }\n",
              "\n",
              "    .dataframe thead th {\n",
              "        text-align: right;\n",
              "    }\n",
              "</style>\n",
              "<table border=\"1\" class=\"dataframe\">\n",
              "  <thead>\n",
              "    <tr style=\"text-align: right;\">\n",
              "      <th></th>\n",
              "      <th>Nama Mobil</th>\n",
              "      <th>Ukuran</th>\n",
              "      <th>Kenyamanan</th>\n",
              "      <th>Irit</th>\n",
              "      <th>Kecepatan</th>\n",
              "      <th>Harga</th>\n",
              "      <th>Jarak Supremum</th>\n",
              "    </tr>\n",
              "  </thead>\n",
              "  <tbody>\n",
              "    <tr>\n",
              "      <th>0</th>\n",
              "      <td>Toyota Avanza</td>\n",
              "      <td>6</td>\n",
              "      <td>5</td>\n",
              "      <td>6</td>\n",
              "      <td>6</td>\n",
              "      <td>2.00</td>\n",
              "      <td>0.5</td>\n",
              "    </tr>\n",
              "    <tr>\n",
              "      <th>1</th>\n",
              "      <td>Daihatsu Xenia</td>\n",
              "      <td>6</td>\n",
              "      <td>4</td>\n",
              "      <td>6</td>\n",
              "      <td>6</td>\n",
              "      <td>1.75</td>\n",
              "      <td>1.0</td>\n",
              "    </tr>\n",
              "    <tr>\n",
              "      <th>2</th>\n",
              "      <td>Karimun</td>\n",
              "      <td>3</td>\n",
              "      <td>4</td>\n",
              "      <td>10</td>\n",
              "      <td>5</td>\n",
              "      <td>1.20</td>\n",
              "      <td>1.3</td>\n",
              "    </tr>\n",
              "    <tr>\n",
              "      <th>3</th>\n",
              "      <td>Toyota Agya</td>\n",
              "      <td>4</td>\n",
              "      <td>4</td>\n",
              "      <td>9</td>\n",
              "      <td>6</td>\n",
              "      <td>1.00</td>\n",
              "      <td>1.5</td>\n",
              "    </tr>\n",
              "    <tr>\n",
              "      <th>4</th>\n",
              "      <td>Toyota Vios</td>\n",
              "      <td>5</td>\n",
              "      <td>7</td>\n",
              "      <td>9</td>\n",
              "      <td>8</td>\n",
              "      <td>2.50</td>\n",
              "      <td>2.0</td>\n",
              "    </tr>\n",
              "    <tr>\n",
              "      <th>5</th>\n",
              "      <td>Suzuki Ertiga</td>\n",
              "      <td>7</td>\n",
              "      <td>7</td>\n",
              "      <td>7</td>\n",
              "      <td>7</td>\n",
              "      <td>2.30</td>\n",
              "      <td>2.0</td>\n",
              "    </tr>\n",
              "    <tr>\n",
              "      <th>6</th>\n",
              "      <td>Suzuki Carry</td>\n",
              "      <td>7</td>\n",
              "      <td>3</td>\n",
              "      <td>9</td>\n",
              "      <td>5</td>\n",
              "      <td>0.80</td>\n",
              "      <td>2.0</td>\n",
              "    </tr>\n",
              "    <tr>\n",
              "      <th>7</th>\n",
              "      <td>Xpander</td>\n",
              "      <td>7</td>\n",
              "      <td>7</td>\n",
              "      <td>6</td>\n",
              "      <td>7</td>\n",
              "      <td>2.25</td>\n",
              "      <td>2.0</td>\n",
              "    </tr>\n",
              "    <tr>\n",
              "      <th>8</th>\n",
              "      <td>Daihatsu Alya</td>\n",
              "      <td>4</td>\n",
              "      <td>3</td>\n",
              "      <td>9</td>\n",
              "      <td>6</td>\n",
              "      <td>1.10</td>\n",
              "      <td>2.0</td>\n",
              "    </tr>\n",
              "    <tr>\n",
              "      <th>9</th>\n",
              "      <td>Livina</td>\n",
              "      <td>7</td>\n",
              "      <td>7</td>\n",
              "      <td>6</td>\n",
              "      <td>7</td>\n",
              "      <td>2.10</td>\n",
              "      <td>2.0</td>\n",
              "    </tr>\n",
              "    <tr>\n",
              "      <th>10</th>\n",
              "      <td>Toyota Hiace</td>\n",
              "      <td>10</td>\n",
              "      <td>5</td>\n",
              "      <td>8</td>\n",
              "      <td>6</td>\n",
              "      <td>5.00</td>\n",
              "      <td>2.5</td>\n",
              "    </tr>\n",
              "    <tr>\n",
              "      <th>11</th>\n",
              "      <td>Toyota Innova</td>\n",
              "      <td>8</td>\n",
              "      <td>8</td>\n",
              "      <td>5</td>\n",
              "      <td>7</td>\n",
              "      <td>4.00</td>\n",
              "      <td>3.0</td>\n",
              "    </tr>\n",
              "    <tr>\n",
              "      <th>12</th>\n",
              "      <td>Honda City</td>\n",
              "      <td>5</td>\n",
              "      <td>8</td>\n",
              "      <td>7</td>\n",
              "      <td>8</td>\n",
              "      <td>2.70</td>\n",
              "      <td>3.0</td>\n",
              "    </tr>\n",
              "    <tr>\n",
              "      <th>13</th>\n",
              "      <td>Toyota Fortuner</td>\n",
              "      <td>9</td>\n",
              "      <td>8</td>\n",
              "      <td>5</td>\n",
              "      <td>8</td>\n",
              "      <td>5.00</td>\n",
              "      <td>3.0</td>\n",
              "    </tr>\n",
              "    <tr>\n",
              "      <th>14</th>\n",
              "      <td>Toyota Foxy</td>\n",
              "      <td>9</td>\n",
              "      <td>9</td>\n",
              "      <td>5</td>\n",
              "      <td>7</td>\n",
              "      <td>5.50</td>\n",
              "      <td>4.0</td>\n",
              "    </tr>\n",
              "    <tr>\n",
              "      <th>15</th>\n",
              "      <td>Toyota Corolla Altis</td>\n",
              "      <td>5</td>\n",
              "      <td>9</td>\n",
              "      <td>7</td>\n",
              "      <td>9</td>\n",
              "      <td>6.00</td>\n",
              "      <td>4.0</td>\n",
              "    </tr>\n",
              "    <tr>\n",
              "      <th>16</th>\n",
              "      <td>Alphard</td>\n",
              "      <td>9</td>\n",
              "      <td>10</td>\n",
              "      <td>4</td>\n",
              "      <td>8</td>\n",
              "      <td>10.00</td>\n",
              "      <td>7.5</td>\n",
              "    </tr>\n",
              "  </tbody>\n",
              "</table>\n",
              "</div>"
            ],
            "text/plain": [
              "              Nama Mobil  Ukuran  Kenyamanan  ...  Kecepatan  Harga  Jarak Supremum\n",
              "0          Toyota Avanza       6           5  ...          6   2.00             0.5\n",
              "1         Daihatsu Xenia       6           4  ...          6   1.75             1.0\n",
              "2                Karimun       3           4  ...          5   1.20             1.3\n",
              "3            Toyota Agya       4           4  ...          6   1.00             1.5\n",
              "4            Toyota Vios       5           7  ...          8   2.50             2.0\n",
              "5          Suzuki Ertiga       7           7  ...          7   2.30             2.0\n",
              "6           Suzuki Carry       7           3  ...          5   0.80             2.0\n",
              "7                Xpander       7           7  ...          7   2.25             2.0\n",
              "8          Daihatsu Alya       4           3  ...          6   1.10             2.0\n",
              "9                 Livina       7           7  ...          7   2.10             2.0\n",
              "10          Toyota Hiace      10           5  ...          6   5.00             2.5\n",
              "11         Toyota Innova       8           8  ...          7   4.00             3.0\n",
              "12            Honda City       5           8  ...          8   2.70             3.0\n",
              "13       Toyota Fortuner       9           8  ...          8   5.00             3.0\n",
              "14           Toyota Foxy       9           9  ...          7   5.50             4.0\n",
              "15  Toyota Corolla Altis       5           9  ...          9   6.00             4.0\n",
              "16               Alphard       9          10  ...          8  10.00             7.5\n",
              "\n",
              "[17 rows x 7 columns]"
            ]
          },
          "metadata": {},
          "execution_count": 31
        }
      ]
    },
    {
      "cell_type": "markdown",
      "metadata": {
        "id": "9iAFqZoV21Zs"
      },
      "source": [
        "--------------------------------------------------------------------------------\n",
        "# ***3 Mobil dengan Rekomendasi Terbaik***\n",
        "\n"
      ]
    },
    {
      "cell_type": "code",
      "metadata": {
        "id": "khpQTAHcss2Q",
        "colab": {
          "base_uri": "https://localhost:8080/"
        },
        "outputId": "7eaa6851-65eb-4c11-9f1d-5351c407e2aa"
      },
      "source": [
        "print('\\033[1m- Data Mobil X -\\033[0m')\n",
        "print('Kenyamanan'.ljust(10),':', kenyamanan)\n",
        "print('Harga'.ljust(10),':', harga)\n",
        "\n",
        "k = int(input('\\nJumlah K = '))\n",
        "for i in range(4) :\n",
        "  print('\\n\\x1B[3m\\033[1m# Jarak dengan Metode', methods[i], '\\033[0m\\x1B[0m')\n",
        "  if i == 0 :\n",
        "    for j in range(k) :\n",
        "      print(data_euc['Nama Mobil'][j].ljust(20),':', data_euc['Jarak Euclidean'][j])\n",
        "  elif i == 1 :\n",
        "    for j in range(k) :\n",
        "      print(data_man['Nama Mobil'][j].ljust(20),':', data_man['Jarak Manhattan'][j])\n",
        "  elif i == 2 :\n",
        "    for j in range(k) :\n",
        "      print(data_min['Nama Mobil'][j].ljust(20),':', data_min['Jarak Minkowski'][j])\n",
        "  elif i == 3 :\n",
        "    for j in range(k) :\n",
        "      print(data_sup['Nama Mobil'][j].ljust(20),':', data_sup['Jarak Supremum'][j])"
      ],
      "execution_count": null,
      "outputs": [
        {
          "output_type": "stream",
          "name": "stdout",
          "text": [
            "\u001b[1m- Data Mobil X -\u001b[0m\n",
            "Kenyamanan : 5.0\n",
            "Harga      : 2.5\n",
            "\n",
            "Jumlah K = 3\n",
            "\n",
            "\u001b[3m\u001b[1m# Jarak dengan Metode Euclidian \u001b[0m\u001b[0m\n",
            "Toyota Avanza        : 0.5\n",
            "Daihatsu Xenia       : 1.25\n",
            "Karimun              : 1.64\n",
            "\n",
            "\u001b[3m\u001b[1m# Jarak dengan Metode Manhattan \u001b[0m\u001b[0m\n",
            "Toyota Avanza        : 0.5\n",
            "Daihatsu Xenia       : 1.75\n",
            "Toyota Vios          : 2.0\n",
            "\n",
            "\u001b[3m\u001b[1m# Jarak dengan Metode Minkowski \u001b[0m\u001b[0m\n",
            "Toyota Avanza        : 0.5\n",
            "Daihatsu Xenia       : 1.12\n",
            "Karimun              : 1.47\n",
            "\n",
            "\u001b[3m\u001b[1m# Jarak dengan Metode Supremum \u001b[0m\u001b[0m\n",
            "Toyota Avanza        : 0.5\n",
            "Daihatsu Xenia       : 1.0\n",
            "Karimun              : 1.3\n"
          ]
        }
      ]
    },
    {
      "cell_type": "markdown",
      "metadata": {
        "id": "TrAq-4BoGTbv"
      },
      "source": [
        "***Konversi data rekomendasi ke file excel***"
      ]
    },
    {
      "cell_type": "code",
      "metadata": {
        "id": "z_xrM3iGAAOJ"
      },
      "source": [
        "rek_euc = data_euc[['Nama Mobil','Jarak Euclidean']].iloc[:3]\n",
        "rek_man = data_man[['Nama Mobil','Jarak Manhattan']].iloc[:3]\n",
        "rek_min = data_min[['Nama Mobil','Jarak Minkowski']].iloc[:3]\n",
        "rek_sup = data_sup[['Nama Mobil','Jarak Supremum']].iloc[:3]\n",
        "rekomendasi = [rek_euc, rek_man, rek_min, rek_sup]"
      ],
      "execution_count": null,
      "outputs": []
    },
    {
      "cell_type": "code",
      "metadata": {
        "id": "dtykiKphJSlF"
      },
      "source": [
        "for i in range(len(rekomendasi)) :\n",
        "  rekomendasi[i].to_excel(f'rekomendasi_{methods[i]}.xls')"
      ],
      "execution_count": null,
      "outputs": []
    },
    {
      "cell_type": "markdown",
      "metadata": {
        "id": "jVZA6veFS4qC"
      },
      "source": [
        "← File excel-nya bisa dilihat di sini ('Files' di Google Colab)"
      ]
    },
    {
      "cell_type": "markdown",
      "metadata": {
        "id": "SqwBAHI_yafm"
      },
      "source": [
        "## ** testing grafik*"
      ]
    },
    {
      "cell_type": "code",
      "metadata": {
        "id": "9ttyfQjovew6",
        "colab": {
          "base_uri": "https://localhost:8080/"
        },
        "outputId": "19327397-ed48-4d8d-c251-4284681c9c09"
      },
      "source": [
        "x1 = [0,1,2,3,4,5,6,7,8,9,10,11,12,13,14,15,16]\n",
        "y1 = []\n",
        "for i in range(len(data_euc)) :\n",
        "  y1.append(data_euc['Jarak Euclidean'][i])\n",
        "\n",
        "plt.figure(figsize = (10,5))\n",
        "plt.xticks([0,1,2,3,4,5,6,7,8,9,10,11,12,13,14,15,16],)\n",
        "plt.title(\"Euclidean Distance\", fontsize=15)\n",
        "\n",
        "plt.plot(x1, y1, color= 'green')"
      ],
      "execution_count": null,
      "outputs": [
        {
          "output_type": "execute_result",
          "data": {
            "text/plain": [
              "[<matplotlib.lines.Line2D at 0x7f12383a0650>]"
            ]
          },
          "metadata": {},
          "execution_count": 35
        },
        {
          "output_type": "display_data",
          "data": {
            "image/png": "[encoded data removed]",
            "text/plain": [
              "<Figure size 720x360 with 1 Axes>"
            ]
          },
          "metadata": {
            "needs_background": "light"
          }
        }
      ]
    },
    {
      "cell_type": "code",
      "metadata": {
        "id": "qRRkXM-KzaDZ",
        "colab": {
          "base_uri": "https://localhost:8080/"
        },
        "outputId": "fba8a78f-c3ee-44e9-cda2-84e2f30b44d9"
      },
      "source": [
        "x2 = [0,1,2,3,4,5,6,7,8,9,10,11,12,13,14,15,16]\n",
        "y2 = []\n",
        "for i in range(len(data_man)) :\n",
        "  y2.append(data_man['Jarak Manhattan'][i])\n",
        "\n",
        "plt.figure(figsize = (10,5))\n",
        "plt.xticks([0,1,2,3,4,5,6,7,8,9,10,11,12,13,14,15,16],)\n",
        "plt.title(\"Manhattan Distance\", fontsize=15)\n",
        "\n",
        "plt.plot(x2, y2, color= 'Blue')"
      ],
      "execution_count": null,
      "outputs": [
        {
          "output_type": "execute_result",
          "data": {
            "text/plain": [
              "[<matplotlib.lines.Line2D at 0x7f12379e32d0>]"
            ]
          },
          "metadata": {},
          "execution_count": 36
        },
        {
          "output_type": "display_data",
          "data": {
            "image/png": "[encoded data removed]",
            "text/plain": [
              "<Figure size 720x360 with 1 Axes>"
            ]
          },
          "metadata": {
            "needs_background": "light"
          }
        }
      ]
    },
    {
      "cell_type": "code",
      "metadata": {
        "id": "iLw3OexYzqJ0",
        "colab": {
          "base_uri": "https://localhost:8080/"
        },
        "outputId": "4ebc0f4d-6eea-422a-f1ca-697e95b62eaf"
      },
      "source": [
        "x3 = [0,1,2,3,4,5,6,7,8,9,10,11,12,13,14,15,16]\n",
        "y3 = []\n",
        "for i in range(len(data_min)) :\n",
        "  y3.append(data_min['Jarak Minkowski'][i])\n",
        "\n",
        "plt.figure(figsize = (10,5))\n",
        "plt.xticks([0,1,2,3,4,5,6,7,8,9,10,11,12,13,14,15,16],)\n",
        "plt.title(\"Minkowski Distance\", fontsize=15)\n",
        "\n",
        "plt.plot(x3, y3, color= 'red')"
      ],
      "execution_count": null,
      "outputs": [
        {
          "output_type": "execute_result",
          "data": {
            "text/plain": [
              "[<matplotlib.lines.Line2D at 0x7f12378f5e10>]"
            ]
          },
          "metadata": {},
          "execution_count": 37
        },
        {
          "output_type": "display_data",
          "data": {
            "image/png": "[encoded data removed]",
            "text/plain": [
              "<Figure size 720x360 with 1 Axes>"
            ]
          },
          "metadata": {
            "needs_background": "light"
          }
        }
      ]
    },
    {
      "cell_type": "code",
      "metadata": {
        "id": "1wop0HZu0E6q",
        "colab": {
          "base_uri": "https://localhost:8080/"
        },
        "outputId": "115ca83c-9154-496f-d8f3-8088a0b44b36"
      },
      "source": [
        "x4 = [0,1,2,3,4,5,6,7,8,9,10,11,12,13,14,15,16]\n",
        "y4 = []\n",
        "for i in range(len(data_sup)) :\n",
        "  y4.append(data_sup['Jarak Supremum'][i])\n",
        "\n",
        "plt.figure(figsize = (10,5))\n",
        "plt.xticks([0,1,2,3,4,5,6,7,8,9,10,11,12,13,14,15,16],)\n",
        "plt.title(\"Supremum Distance\", fontsize=15)\n",
        "\n",
        "plt.plot(x4, y4, color= 'purple')"
      ],
      "execution_count": null,
      "outputs": [
        {
          "output_type": "execute_result",
          "data": {
            "text/plain": [
              "[<matplotlib.lines.Line2D at 0x7f1237881e10>]"
            ]
          },
          "metadata": {},
          "execution_count": 38
        },
        {
          "output_type": "display_data",
          "data": {
            "image/png": "[encoded data removed]",
            "text/plain": [
              "<Figure size 720x360 with 1 Axes>"
            ]
          },
          "metadata": {
            "needs_background": "light"
          }
        }
      ]
    }
  ]
}